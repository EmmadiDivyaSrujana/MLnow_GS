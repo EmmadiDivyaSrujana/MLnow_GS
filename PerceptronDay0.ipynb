{
  "nbformat": 4,
  "nbformat_minor": 0,
  "metadata": {
    "colab": {
      "name": "PerceptronDay0.ipynb",
      "provenance": [],
      "authorship_tag": "ABX9TyOWS4Yx/CVUZvrZUxCQ80w0",
      "include_colab_link": true
    },
    "kernelspec": {
      "name": "python3",
      "display_name": "Python 3"
    },
    "language_info": {
      "name": "python"
    }
  },
  "cells": [
    {
      "cell_type": "markdown",
      "metadata": {
        "id": "view-in-github",
        "colab_type": "text"
      },
      "source": [
        "<a href=\"https://colab.research.google.com/github/EmmadiDivyaSrujana/MLnow_GS/blob/main/PerceptronDay0.ipynb\" target=\"_parent\"><img src=\"https://colab.research.google.com/assets/colab-badge.svg\" alt=\"Open In Colab\"/></a>"
      ]
    },
    {
      "cell_type": "code",
      "metadata": {
        "colab": {
          "base_uri": "https://localhost:8080/"
        },
        "id": "HKyuk_V3VOl8",
        "outputId": "3936ee17-080f-4299-ee5c-80fee699263d"
      },
      "source": [
        "from google.colab import drive\n",
        "drive.mount('/content/drive')"
      ],
      "execution_count": 1,
      "outputs": [
        {
          "output_type": "stream",
          "text": [
            "Mounted at /content/drive\n"
          ],
          "name": "stdout"
        }
      ]
    },
    {
      "cell_type": "code",
      "metadata": {
        "id": "Cp6h129paQes"
      },
      "source": [
        "#Author : ['Emmadi Divya Srujana'] ('https://github.com/EmmadiDivyaSrujana')"
      ],
      "execution_count": 5,
      "outputs": []
    },
    {
      "cell_type": "code",
      "metadata": {
        "colab": {
          "base_uri": "https://localhost:8080/",
          "height": 35
        },
        "id": "lr3Zbw64c8ZO",
        "outputId": "44c03bfa-3db0-41f7-c3ee-3deed372e2cc"
      },
      "source": [
        "#data creation\n",
        "#Equation: \"y=10x\"\n",
        "\"\"\"xtrain=[0,1,2,4,5,...]\n",
        "ytrain=[0,10,20,30,40,50,...]\n",
        "\"\"\""
      ],
      "execution_count": 7,
      "outputs": [
        {
          "output_type": "execute_result",
          "data": {
            "application/vnd.google.colaboratory.intrinsic+json": {
              "type": "string"
            },
            "text/plain": [
              "'xtrain=[0,1,2,4,5,...]\\nytrain=[0,10,20,30,40,50,...]\\n'"
            ]
          },
          "metadata": {
            "tags": []
          },
          "execution_count": 7
        }
      ]
    },
    {
      "cell_type": "code",
      "metadata": {
        "colab": {
          "base_uri": "https://localhost:8080/"
        },
        "id": "P4fNcYxXduCt",
        "outputId": "8cfaf0f7-0c05-48ff-e898-34eeb4dcb818"
      },
      "source": [
        "xData=[i for i in range(21)]\n",
        "print(xData)"
      ],
      "execution_count": 19,
      "outputs": [
        {
          "output_type": "stream",
          "text": [
            "[0, 1, 2, 3, 4, 5, 6, 7, 8, 9, 10, 11, 12, 13, 14, 15, 16, 17, 18, 19, 20]\n"
          ],
          "name": "stdout"
        }
      ]
    },
    {
      "cell_type": "code",
      "metadata": {
        "colab": {
          "base_uri": "https://localhost:8080/"
        },
        "id": "YGZ7Kg3YeVrK",
        "outputId": "b79b784d-3c9c-46b8-de87-9eab88b5c68d"
      },
      "source": [
        "yData=[i*10 for i in xData]\n",
        "print(yData)"
      ],
      "execution_count": 20,
      "outputs": [
        {
          "output_type": "stream",
          "text": [
            "[0, 10, 20, 30, 40, 50, 60, 70, 80, 90, 100, 110, 120, 130, 140, 150, 160, 170, 180, 190, 200]\n"
          ],
          "name": "stdout"
        }
      ]
    },
    {
      "cell_type": "code",
      "metadata": {
        "id": "_IO3GvR2fAxV"
      },
      "source": [
        "#DEFINING A FUNCTION FOR A EQUATION Y=10X"
      ],
      "execution_count": 18,
      "outputs": []
    },
    {
      "cell_type": "code",
      "metadata": {
        "colab": {
          "base_uri": "https://localhost:8080/"
        },
        "id": "vHLM9ybGggsL",
        "outputId": "50be6e7e-6a75-4249-aa60-1112b09ca57c"
      },
      "source": [
        "def tempFunc(x):\n",
        "  y=10*x\n",
        "  return y\n",
        "\n",
        "for value in xData:\n",
        "  print(tempFunc(value))"
      ],
      "execution_count": 21,
      "outputs": [
        {
          "output_type": "stream",
          "text": [
            "0\n",
            "10\n",
            "20\n",
            "30\n",
            "40\n",
            "50\n",
            "60\n",
            "70\n",
            "80\n",
            "90\n",
            "100\n",
            "110\n",
            "120\n",
            "130\n",
            "140\n",
            "150\n",
            "160\n",
            "170\n",
            "180\n",
            "190\n",
            "200\n"
          ],
          "name": "stdout"
        }
      ]
    },
    {
      "cell_type": "markdown",
      "metadata": {
        "id": "yoRgk1zrhZ2J"
      },
      "source": [
        "APPROACH 2"
      ]
    },
    {
      "cell_type": "code",
      "metadata": {
        "colab": {
          "base_uri": "https://localhost:8080/"
        },
        "id": "s2wSI9K9h_mX",
        "outputId": "b4ff2fda-fe12-4e8c-8e25-bd7beaf8ab38"
      },
      "source": [
        "print(f'This is x: {xData}')\n",
        "print(f'This is y:{yData}')"
      ],
      "execution_count": 26,
      "outputs": [
        {
          "output_type": "stream",
          "text": [
            "This is x: [0, 1, 2, 3, 4, 5, 6, 7, 8, 9, 10, 11, 12, 13, 14, 15, 16, 17, 18, 19, 20]\n",
            "This is y:[0, 10, 20, 30, 40, 50, 60, 70, 80, 90, 100, 110, 120, 130, 140, 150, 160, 170, 180, 190, 200]\n"
          ],
          "name": "stdout"
        }
      ]
    },
    {
      "cell_type": "code",
      "metadata": {
        "colab": {
          "base_uri": "https://localhost:8080/"
        },
        "id": "i2PbM_Mehby9",
        "outputId": "385bb649-343a-4e82-c8b7-030d5cf2b7dc"
      },
      "source": [
        "xTrain=xData[:-5] #TRAINING DATA\n",
        "yTrain=yData[:-5] #TRAINING LABEL\n",
        "xTest=xData[-5:] #TESTING DATA\n",
        "yTest=yData[-5:] #TESTING LABEL\n",
        "\n",
        "print(f'''\n",
        "xTrain : {xTrain}\n",
        "yTrain : {yTrain}\n",
        "\n",
        "yTest : {xTest}\n",
        "yTest: {yTest}''')"
      ],
      "execution_count": 28,
      "outputs": [
        {
          "output_type": "stream",
          "text": [
            "\n",
            "xTrain : [0, 1, 2, 3, 4, 5, 6, 7, 8, 9, 10, 11, 12, 13, 14, 15]\n",
            "yTrain : [0, 10, 20, 30, 40, 50, 60, 70, 80, 90, 100, 110, 120, 130, 140, 150]\n",
            "\n",
            "yTest : [16, 17, 18, 19, 20]\n",
            "yTest: [160, 170, 180, 190, 200]\n"
          ],
          "name": "stdout"
        }
      ]
    },
    {
      "cell_type": "code",
      "metadata": {
        "id": "5ayCkEsQkQlw"
      },
      "source": [
        "import tensorflow as tf\n",
        "from tensorflow import keras"
      ],
      "execution_count": 30,
      "outputs": []
    },
    {
      "cell_type": "code",
      "metadata": {
        "id": "m29RBJr5klS7"
      },
      "source": [
        "model=tf.keras.Sequential([\n",
        "                           tf.keras.layers.Dense\n",
        "])"
      ],
      "execution_count": null,
      "outputs": []
    }
  ]
}